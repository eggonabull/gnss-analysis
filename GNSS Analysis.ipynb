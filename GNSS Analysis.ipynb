{
 "cells": [
  {
   "cell_type": "markdown",
   "metadata": {
    "deletable": true,
    "editable": true
   },
   "source": [
    " \n",
    "# DOP Agnostic Analysis of Telit LE910 GNSS Noise For Vehicular Motion\n",
    "\n",
    "## Introduction\n",
    "So one of the problems I encountered at work recently was that we had large swaths of medium to low quality GPS road data that we needed to filter to create a reasonable quality display. Furthermore, this data was collected without accompanying dilution of precision information. There was also no accompanying gyrometer, accelerometer, or compass data. We could begin collecting dilution of precision and sensor information moving forward, but we needed to a way to make the past data more viable in order to push forward.  \n",
    "\n",
    "\n",
    "## Data\n",
    "\n",
    "I did not have the bandwidth to create a large test suite for this analysis. I decided to select 16 hand-picked days of data, each with characteristics that will feed our understanding of good-quality data or demonstrate some problematic noise that I intend to diminish. I'm going to start off by showing completely unfiltered output because we may be able to make use of that information to inform further filtering.\n",
    "\n",
    "I will be plotting each dataset along with velocity and acceleration charts.  This will demonstrate some of the extremely low hanging fruit before we move onto the initial step of modeling vehicle behavior and then a more complex confidence-based analysis.\n"
   ]
  },
  {
   "cell_type": "markdown",
   "metadata": {
    "deletable": true,
    "editable": true
   },
   "source": [
    "#### d020-2017-02-10\n",
    "\n",
    "This file show the GPS output of a stationary unit. The actual location of the unit is known and is shown by the blue marker. "
   ]
  },
  {
   "cell_type": "code",
   "execution_count": 1,
   "metadata": {
    "collapsed": true,
    "deletable": true,
    "editable": true
   },
   "outputs": [],
   "source": [
    "# This is some initialization to allow us to render the following maps\n",
    "%load_ext autoreload\n",
    "%autoreload 2\n",
    "\n",
    "import gnss_helpers\n",
    "from ipyleaflet import Marker"
   ]
  },
  {
   "cell_type": "code",
   "execution_count": null,
   "metadata": {
    "collapsed": false,
    "deletable": true,
    "editable": true
   },
   "outputs": [],
   "source": [
    "m = gnss_helpers.get_map_for_data_file('d020-2017-02-10.csv', zoom=14)\n",
    "actual_location_coords = [48.78385, -122.450]\n",
    "actual_location = Marker(location=actual_location_coords)\n",
    "m.center = actual_location_coords\n",
    "m += actual_location\n",
    "m"
   ]
  },
  {
   "cell_type": "code",
   "execution_count": null,
   "metadata": {
    "collapsed": false,
    "deletable": true,
    "editable": true
   },
   "outputs": [],
   "source": [
    "gnss_helpers.get_velocity_plot('d020-2017-02-10.csv')"
   ]
  },
  {
   "cell_type": "markdown",
   "metadata": {
    "deletable": true,
    "editable": true
   },
   "source": [
    "Prior to this report, we were already filtering out point groups that suggested the vehicle was traveling over 150 miles per hour. Here we can see that several of the noisy points suggested the vehicle was traveling over 600 miles per hour."
   ]
  },
  {
   "cell_type": "code",
   "execution_count": null,
   "metadata": {
    "collapsed": false,
    "deletable": true,
    "editable": true
   },
   "outputs": [],
   "source": [
    "gnss_helpers.get_acceleration_plot('d020-2017-02-10.csv')"
   ]
  },
  {
   "cell_type": "markdown",
   "metadata": {
    "deletable": true,
    "editable": true
   },
   "source": [
    "Above we have the raw acceleration vectors for this data set.  A vehicle acellerating or decellerating by more that 7mph per second is considered by the industry to be an extreme event. The accelerations we see here of over 100mph/s will give us one mechanism of identifying some of our noisiest points. The extreme points that dominate both graphs cause the acceleration and velocity graphs to look mostly the same."
   ]
  },
  {
   "cell_type": "markdown",
   "metadata": {
    "deletable": true,
    "editable": true
   },
   "source": [
    "### d06a-2016-12-16.csv\n",
    "\n",
    "Here's another plot of a stationary unit. All the data motion in the the signal coming off the unit is entirely noise."
   ]
  },
  {
   "cell_type": "code",
   "execution_count": null,
   "metadata": {
    "collapsed": true,
    "deletable": true,
    "editable": true
   },
   "outputs": [],
   "source": [
    "gnss_helpers.get_map_for_data_file('d06a-2016-12-16.csv')"
   ]
  },
  {
   "cell_type": "code",
   "execution_count": null,
   "metadata": {
    "collapsed": false,
    "deletable": true,
    "editable": true
   },
   "outputs": [],
   "source": [
    "gnss_helpers.get_velocity_plot('d06a-2016-12-16.csv')"
   ]
  },
  {
   "cell_type": "code",
   "execution_count": null,
   "metadata": {
    "collapsed": false,
    "deletable": true,
    "editable": true
   },
   "outputs": [],
   "source": [
    "gnss_helpers.get_acceleration_plot('d06a-2016-12-16.csv')"
   ]
  },
  {
   "cell_type": "code",
   "execution_count": null,
   "metadata": {
    "collapsed": true,
    "deletable": true,
    "editable": true
   },
   "outputs": [],
   "source": [
    "gnss_helpers.get_map_for_data_file('d06a-2016-12-17.csv', zoom=10)"
   ]
  },
  {
   "cell_type": "code",
   "execution_count": null,
   "metadata": {
    "collapsed": false,
    "deletable": true,
    "editable": true
   },
   "outputs": [],
   "source": [
    "gnss_helpers.get_velocity_plot('d06a-2016-12-17.csv')"
   ]
  },
  {
   "cell_type": "code",
   "execution_count": null,
   "metadata": {
    "collapsed": false,
    "deletable": true,
    "editable": true
   },
   "outputs": [],
   "source": [
    "gnss_helpers.get_acceleration_plot('d06a-2016-12-17.csv')"
   ]
  },
  {
   "cell_type": "code",
   "execution_count": null,
   "metadata": {
    "collapsed": true,
    "deletable": true,
    "editable": true
   },
   "outputs": [],
   "source": [
    "gnss_helpers.get_map_for_data_file('d06a-2016-12-18.csv', zoom=10)"
   ]
  },
  {
   "cell_type": "code",
   "execution_count": null,
   "metadata": {
    "collapsed": false,
    "deletable": true,
    "editable": true
   },
   "outputs": [],
   "source": [
    "gnss_helpers.get_velocity_plot('d06a-2016-12-18.csv')"
   ]
  },
  {
   "cell_type": "code",
   "execution_count": null,
   "metadata": {
    "collapsed": false,
    "deletable": true,
    "editable": true
   },
   "outputs": [],
   "source": [
    "gnss_helpers.get_acceleration_plot('d06a-2016-12-18.csv')"
   ]
  },
  {
   "cell_type": "code",
   "execution_count": null,
   "metadata": {
    "collapsed": true,
    "deletable": true,
    "editable": true
   },
   "outputs": [],
   "source": [
    "gnss_helpers.get_map_for_data_file('d07a-2017-01-23.csv', zoom=15)"
   ]
  },
  {
   "cell_type": "code",
   "execution_count": null,
   "metadata": {
    "collapsed": false,
    "deletable": true,
    "editable": true
   },
   "outputs": [],
   "source": [
    "gnss_helpers.get_velocity_plot('d07a-2017-01-23.csv')"
   ]
  },
  {
   "cell_type": "code",
   "execution_count": null,
   "metadata": {
    "collapsed": false,
    "deletable": true,
    "editable": true
   },
   "outputs": [],
   "source": [
    "gnss_helpers.get_acceleration_plot('d07a-2017-01-23.csv')"
   ]
  },
  {
   "cell_type": "markdown",
   "metadata": {
    "deletable": true,
    "editable": true
   },
   "source": [
    "### d07a-2017-02-08.csv\n",
    "\n",
    "The below is a mostly-good output of a route.  There's an errant ping from main street that veers off to South Lincoln Street."
   ]
  },
  {
   "cell_type": "code",
   "execution_count": null,
   "metadata": {
    "collapsed": true,
    "deletable": true,
    "editable": true
   },
   "outputs": [],
   "source": [
    "gnss_helpers.get_map_for_data_file('d07a-2017-02-08.csv')"
   ]
  },
  {
   "cell_type": "code",
   "execution_count": null,
   "metadata": {
    "collapsed": false,
    "deletable": true,
    "editable": true
   },
   "outputs": [],
   "source": [
    "gnss_helpers.get_velocity_plot('d07a-2017-02-08.csv')"
   ]
  },
  {
   "cell_type": "code",
   "execution_count": null,
   "metadata": {
    "collapsed": false,
    "deletable": true,
    "editable": true
   },
   "outputs": [],
   "source": [
    "gnss_helpers.get_acceleration_plot('d07a-2017-01-23.csv')"
   ]
  },
  {
   "cell_type": "code",
   "execution_count": null,
   "metadata": {
    "collapsed": true,
    "deletable": true,
    "editable": true
   },
   "outputs": [],
   "source": [
    "gnss_helpers.get_map_for_data_file('d07a-2017-02-09.csv', zoom=11)"
   ]
  },
  {
   "cell_type": "code",
   "execution_count": null,
   "metadata": {
    "collapsed": false,
    "deletable": true,
    "editable": true
   },
   "outputs": [],
   "source": [
    "gnss_helpers.get_velocity_plot('d07a-2017-02-09.csv')"
   ]
  },
  {
   "cell_type": "code",
   "execution_count": null,
   "metadata": {
    "collapsed": false,
    "deletable": true,
    "editable": true
   },
   "outputs": [],
   "source": [
    "gnss_helpers.get_acceleration_plot('d07a-2017-02-09.csv')"
   ]
  },
  {
   "cell_type": "markdown",
   "metadata": {
    "deletable": true,
    "editable": true
   },
   "source": [
    "### d07e-2016-10-11\n",
    "\n",
    "This, to me, is one of the most interesting datasets. We have a combination of a high-quality route as the vehicle travels along the road and also some moderately-bad noise as the vehicle idles between trips.  None of the movement shown between Iron Gate Road, Bakerview Spur, Alpine Way, and Midway Lane should be there."
   ]
  },
  {
   "cell_type": "code",
   "execution_count": null,
   "metadata": {
    "collapsed": true,
    "deletable": true,
    "editable": true
   },
   "outputs": [],
   "source": [
    "gnss_helpers.get_map_for_data_file('d07e-2016-10-11.csv')"
   ]
  },
  {
   "cell_type": "code",
   "execution_count": null,
   "metadata": {
    "collapsed": false,
    "deletable": true,
    "editable": true
   },
   "outputs": [],
   "source": [
    "gnss_helpers.get_velocity_plot('d07e-2016-10-11.csv')"
   ]
  },
  {
   "cell_type": "code",
   "execution_count": null,
   "metadata": {
    "collapsed": false,
    "deletable": true,
    "editable": true
   },
   "outputs": [],
   "source": [
    "gnss_helpers.get_acceleration_plot('d07e-2016-10-11.csv')"
   ]
  },
  {
   "cell_type": "code",
   "execution_count": null,
   "metadata": {
    "collapsed": true,
    "deletable": true,
    "editable": true
   },
   "outputs": [],
   "source": [
    "gnss_helpers.get_map_for_data_file('d07e-2016-10-24.csv')"
   ]
  },
  {
   "cell_type": "code",
   "execution_count": null,
   "metadata": {
    "collapsed": false,
    "deletable": true,
    "editable": true
   },
   "outputs": [],
   "source": [
    "gnss_helpers.get_velocity_plot('d07e-2016-10-24.csv')"
   ]
  },
  {
   "cell_type": "code",
   "execution_count": null,
   "metadata": {
    "collapsed": false,
    "deletable": true,
    "editable": true
   },
   "outputs": [],
   "source": [
    "gnss_helpers.get_acceleration_plot('d07e-2016-10-24.csv')"
   ]
  },
  {
   "cell_type": "markdown",
   "metadata": {
    "deletable": true,
    "editable": true
   },
   "source": [
    "I'm starting to realize that selecting routes from an area with lots of roads aligned with cardinal directions was a mistake. Drawing from past experience with geospatial data, I want to stress that the heavy concentration of points around the axes is sampling error on my part."
   ]
  },
  {
   "cell_type": "code",
   "execution_count": null,
   "metadata": {
    "collapsed": true,
    "deletable": true,
    "editable": true
   },
   "outputs": [],
   "source": [
    "gnss_helpers.get_map_for_data_file('d07e-2016-10-31.csv')"
   ]
  },
  {
   "cell_type": "code",
   "execution_count": null,
   "metadata": {
    "collapsed": false,
    "deletable": true,
    "editable": true
   },
   "outputs": [],
   "source": [
    "gnss_helpers.get_velocity_plot('d07e-2016-10-31.csv')"
   ]
  },
  {
   "cell_type": "code",
   "execution_count": null,
   "metadata": {
    "collapsed": false,
    "deletable": true,
    "editable": true
   },
   "outputs": [],
   "source": [
    "gnss_helpers.get_acceleration_plot('d07e-2016-10-24.csv')"
   ]
  },
  {
   "cell_type": "markdown",
   "metadata": {
    "deletable": true,
    "editable": true
   },
   "source": [
    "### d07e-2016-11-02\n",
    "\n",
    "Here we have a series of very-high precision points for what was a stationary unit. There are few problems with the data here. Our ideal output would not show the tiny drifts around the actual point."
   ]
  },
  {
   "cell_type": "code",
   "execution_count": null,
   "metadata": {
    "collapsed": false,
    "deletable": true,
    "editable": true
   },
   "outputs": [],
   "source": [
    "gnss_helpers.get_map_for_data_file('d07e-2016-11-02.csv', zoom=18)"
   ]
  },
  {
   "cell_type": "code",
   "execution_count": null,
   "metadata": {
    "collapsed": false,
    "deletable": true,
    "editable": true
   },
   "outputs": [],
   "source": [
    "gnss_helpers.get_velocity_plot('d07e-2016-11-02.csv')"
   ]
  },
  {
   "cell_type": "code",
   "execution_count": null,
   "metadata": {
    "collapsed": false,
    "deletable": true,
    "editable": true
   },
   "outputs": [],
   "source": [
    "gnss_helpers.get_acceleration_plot('d07e-2016-11-02.csv')"
   ]
  },
  {
   "cell_type": "code",
   "execution_count": null,
   "metadata": {
    "collapsed": true,
    "deletable": true,
    "editable": true
   },
   "outputs": [],
   "source": [
    "gnss_helpers.get_map_for_data_file('d07e-2017-01-11.csv', zoom=12)"
   ]
  },
  {
   "cell_type": "code",
   "execution_count": null,
   "metadata": {
    "collapsed": false,
    "deletable": true,
    "editable": true
   },
   "outputs": [],
   "source": [
    "gnss_helpers.get_velocity_plot('d07e-2017-01-11.csv')"
   ]
  },
  {
   "cell_type": "code",
   "execution_count": null,
   "metadata": {
    "collapsed": false,
    "deletable": true,
    "editable": true
   },
   "outputs": [],
   "source": [
    "gnss_helpers.get_acceleration_plot('d07e-2017-01-11.csv')"
   ]
  },
  {
   "cell_type": "code",
   "execution_count": null,
   "metadata": {
    "collapsed": true,
    "deletable": true,
    "editable": true
   },
   "outputs": [],
   "source": [
    "gnss_helpers.get_map_for_data_file('d0ec-2016-06-25.csv', zoom=12)"
   ]
  },
  {
   "cell_type": "code",
   "execution_count": null,
   "metadata": {
    "collapsed": false,
    "deletable": true,
    "editable": true
   },
   "outputs": [],
   "source": [
    "gnss_helpers.get_velocity_plot('d0ec-2016-06-25.csv')"
   ]
  },
  {
   "cell_type": "code",
   "execution_count": null,
   "metadata": {
    "collapsed": false,
    "deletable": true,
    "editable": true
   },
   "outputs": [],
   "source": [
    "gnss_helpers.get_acceleration_plot('d0ec-2016-06-25.csv')"
   ]
  },
  {
   "cell_type": "code",
   "execution_count": null,
   "metadata": {
    "collapsed": true,
    "deletable": true,
    "editable": true
   },
   "outputs": [],
   "source": [
    "gnss_helpers.get_map_for_data_file('d0ec-2016-06-26.csv', zoom=7)"
   ]
  },
  {
   "cell_type": "code",
   "execution_count": null,
   "metadata": {
    "collapsed": false,
    "deletable": true,
    "editable": true
   },
   "outputs": [],
   "source": [
    "gnss_helpers.get_velocity_plot('d0ec-2016-06-26.csv')"
   ]
  },
  {
   "cell_type": "code",
   "execution_count": null,
   "metadata": {
    "collapsed": false,
    "deletable": true,
    "editable": true
   },
   "outputs": [],
   "source": [
    "gnss_helpers.get_acceleration_plot('d0ec-2016-06-26.csv')"
   ]
  },
  {
   "cell_type": "markdown",
   "metadata": {
    "deletable": true,
    "editable": true
   },
   "source": [
    "### d0ec-2016-06-27\n",
    "\n",
    "The second half a long trip with one of our vehicles. The marker I added represents some undesirable noise at a rest area, shown in more detail on the map further below."
   ]
  },
  {
   "cell_type": "code",
   "execution_count": null,
   "metadata": {
    "collapsed": true,
    "deletable": true,
    "editable": true
   },
   "outputs": [],
   "source": [
    "m = gnss_helpers.get_map_for_data_file('d0ec-2016-06-27.csv', zoom=6)\n",
    "rest_area_noise_coords = [43.4763791,-123.3227298]\n",
    "rest_area_noise = Marker(location=rest_area_noise_coords)\n",
    "m += rest_area_noise\n",
    "m"
   ]
  },
  {
   "cell_type": "code",
   "execution_count": null,
   "metadata": {
    "collapsed": true,
    "deletable": true,
    "editable": true
   },
   "outputs": [],
   "source": [
    "m = gnss_helpers.get_map_for_data_file('d0ec-2016-06-27.csv', zoom=18)\n",
    "rest_area_noise_coords = [43.4763791,-123.32]\n",
    "m.center = rest_area_noise_coords\n",
    "m"
   ]
  },
  {
   "cell_type": "code",
   "execution_count": null,
   "metadata": {
    "collapsed": false,
    "deletable": true,
    "editable": true
   },
   "outputs": [],
   "source": [
    "gnss_helpers.get_velocity_plot('d0ec-2016-06-27.csv')"
   ]
  },
  {
   "cell_type": "code",
   "execution_count": null,
   "metadata": {
    "collapsed": false,
    "deletable": true,
    "editable": true
   },
   "outputs": [],
   "source": [
    "gnss_helpers.get_acceleration_plot('d0ec-2016-06-27.csv')"
   ]
  },
  {
   "cell_type": "code",
   "execution_count": null,
   "metadata": {
    "collapsed": true,
    "deletable": true,
    "editable": true
   },
   "outputs": [],
   "source": [
    "gnss_helpers.get_map_for_data_file('d0ec-2017-02-02.csv', zoom=17)"
   ]
  },
  {
   "cell_type": "code",
   "execution_count": null,
   "metadata": {
    "collapsed": false,
    "deletable": true,
    "editable": true
   },
   "outputs": [],
   "source": [
    "gnss_helpers.get_velocity_plot('d0ec-2017-02-02.csv')"
   ]
  },
  {
   "cell_type": "code",
   "execution_count": null,
   "metadata": {
    "collapsed": false,
    "deletable": true,
    "editable": true
   },
   "outputs": [],
   "source": [
    "gnss_helpers.get_acceleration_plot('d0ec-2017-02-02.csv')"
   ]
  },
  {
   "cell_type": "markdown",
   "metadata": {
    "collapsed": true,
    "deletable": true,
    "editable": true
   },
   "source": [
    "# Low Hanging Fruit\n",
    "\n",
    "Let's just nuke the most obvious problems data and see what we're left with.\n",
    "\n",
    "First we have to start separating paths. When data cuts out for a long time or a large distance, we can't just draw a straight line from the point before to the most recent point. Let's try separating points that are more than 0.2 miles apart into separate routes, filtering out \n",
    "\n",
    "\n"
   ]
  },
  {
   "cell_type": "code",
   "execution_count": 14,
   "metadata": {
    "collapsed": false,
    "deletable": true,
    "editable": true
   },
   "outputs": [
    {
     "name": "stdout",
     "output_type": "stream",
     "text": [
      "#ffffff\n",
      "#ffffff\n",
      "#ffffff\n",
      "#e8e8e8\n",
      "#ffffff\n",
      "#fafafa\n",
      "#ffffff\n",
      "#fefefe\n",
      "#ffffff\n",
      "#ffffff\n",
      "#fafafa\n",
      "#ffffff\n",
      "#ffffff\n",
      "#ffffff\n",
      "#ffffff\n",
      "#ffffff\n",
      "#fefefe\n",
      "#ffffff\n",
      "#ffffff\n",
      "#ffffff\n",
      "#ffffff\n",
      "#ffffff\n",
      "#ffffff\n",
      "#ffffff\n",
      "#ffffff\n",
      "#ffffff\n",
      "#f2f2f2\n",
      "#ffffff\n",
      "#fefefe\n",
      "#f8f8f8\n",
      "#fdfdfd\n",
      "#f9f9f9\n",
      "#ffffff\n",
      "#d0d0d0\n",
      "#fcfcfc\n",
      "#f6f6f6\n",
      "#ffffff\n",
      "#909090\n",
      "#ffffff\n",
      "#ffffff\n",
      "#ffffff\n",
      "#ffffff\n",
      "#ffffff\n",
      "#ffffff\n",
      "#ffffff\n",
      "#ffffff\n",
      "#ffffff\n",
      "#fafafa\n",
      "#ffffff\n",
      "#ffffff\n",
      "#fdfdfd\n",
      "#fefefe\n",
      "#ffffff\n",
      "#ffffff\n",
      "#fbfbfb\n",
      "#ffffff\n",
      "#ffffff\n",
      "#ffffff\n",
      "#ffffff\n",
      "#ffffff\n",
      "#ffffff\n",
      "#ffffff\n",
      "#ffffff\n",
      "#ffffff\n",
      "#f0f0f0\n",
      "#ffffff\n",
      "#ffffff\n",
      "#fcfcfc\n",
      "#ffffff\n",
      "#fcfcfc\n",
      "#ffffff\n",
      "#f6f6f6\n",
      "#ffffff\n",
      "#ffffff\n",
      "#ffffff\n",
      "#ffffff\n",
      "#ffffff\n",
      "#ffffff\n",
      "#fbfbfb\n",
      "#ffffff\n",
      "#fefefe\n",
      "#f7f7f7\n",
      "#fefefe\n",
      "#ffffff\n",
      "#fbfbfb\n",
      "#fefefe\n",
      "#ffffff\n",
      "#ffffff\n",
      "#ffffff\n",
      "#fefefe\n",
      "#ffffff\n",
      "#ffffff\n",
      "#ffffff\n",
      "#fcfcfc\n",
      "#ffffff\n",
      "#fdfdfd\n",
      "#ffffff\n",
      "#fefefe\n",
      "#ffffff\n",
      "#fefefe\n",
      "#ffffff\n",
      "#ffffff\n",
      "#fefefe\n",
      "#ffffff\n",
      "#fefefe\n",
      "#ffffff\n",
      "#fefefe\n",
      "#ffffff\n",
      "#ffffff\n",
      "#ffffff\n",
      "#ffffff\n",
      "#ffffff\n",
      "#ffffff\n",
      "#ffffff\n",
      "#ffffff\n",
      "#ffffff\n",
      "#ffffff\n",
      "#ffffff\n",
      "#ffffff\n",
      "#ffffff\n",
      "#fefefe\n",
      "#ffffff\n",
      "#f4f4f4\n",
      "#ffffff\n",
      "#f1f1f1\n",
      "#ffffff\n",
      "#ffffff\n",
      "#fdfdfd\n",
      "#f7f7f7\n",
      "#ffffff\n",
      "#e2e2e2\n",
      "#ffffff\n",
      "#ffffff\n",
      "#ffffff\n",
      "#ffffff\n",
      "#ffffff\n",
      "#ffffff\n",
      "#ffffff\n",
      "#ffffff\n",
      "#ffffff\n",
      "#ffffff\n",
      "#ffffff\n",
      "#ffffff\n",
      "#ffffff\n",
      "#ffffff\n",
      "#ffffff\n",
      "#ffffff\n",
      "#ffffff\n",
      "#ffffff\n",
      "#ffffff\n",
      "#ffffff\n",
      "#ffffff\n",
      "#ffffff\n",
      "#fdfdfd\n",
      "#ffffff\n",
      "#cbcbcb\n",
      "#ffffff\n",
      "#ffffff\n",
      "#ffffff\n",
      "#ffffff\n",
      "#ffffff\n",
      "#ffffff\n",
      "#ffffff\n",
      "#ffffff\n",
      "#ffffff\n",
      "#ffffff\n",
      "#ffffff\n",
      "#ffffff\n",
      "#ffffff\n",
      "#ffffff\n",
      "#ffffff\n",
      "#ffffff\n",
      "#ffffff\n",
      "#ffffff\n",
      "#ffffff\n",
      "#ffffff\n",
      "#ffffff\n",
      "#ffffff\n",
      "#ffffff\n",
      "#ffffff\n",
      "#ffffff\n",
      "#ffffff\n",
      "#ffffff\n",
      "#ffffff\n",
      "#ffffff\n",
      "#ffffff\n",
      "#ffffff\n",
      "#ffffff\n",
      "#ffffff\n",
      "#ffffff\n",
      "#ffffff\n",
      "#ffffff\n",
      "#ffffff\n",
      "#ffffff\n",
      "#ffffff\n",
      "#ffffff\n",
      "#ffffff\n",
      "#ffffff\n",
      "#ffffff\n",
      "#ffffff\n",
      "#ffffff\n",
      "#ffffff\n",
      "#ffffff\n",
      "#ffffff\n",
      "#fefefe\n",
      "#fefefe\n",
      "#ffffff\n",
      "#ffffff\n",
      "#ffffff\n",
      "#ffffff\n",
      "#ffffff\n",
      "#fefefe\n",
      "#ffffff\n",
      "#ffffff\n",
      "#ffffff\n",
      "#ffffff\n",
      "#fefefe\n",
      "#f8f8f8\n",
      "#fefefe\n",
      "#ffffff\n",
      "#ffffff\n",
      "#fefefe\n",
      "#ffffff\n",
      "#ffffff\n",
      "#ffffff\n",
      "#ffffff\n",
      "#fcfcfc\n",
      "#ffffff\n",
      "#fbfbfb\n",
      "#ffffff\n",
      "#fdfdfd\n",
      "#ffffff\n",
      "#ffffff\n",
      "#ffffff\n",
      "#ffffff\n",
      "#ffffff\n",
      "#ffffff\n",
      "#ffffff\n",
      "#ffffff\n",
      "#ffffff\n",
      "#ffffff\n",
      "#ffffff\n",
      "#fcfcfc\n",
      "#ffffff\n",
      "#ffffff\n",
      "#f9f9f9\n",
      "#dfdfdf\n",
      "#ffffff\n",
      "#ffffff\n",
      "#fefefe\n",
      "#ffffff\n",
      "#000000\n"
     ]
    }
   ],
   "source": [
    "#gnss_helpers.get_map_for_data_file('d07e-2017-01-11.csv', zoom=12)\n",
    "data = gnss_helpers.get_annotated_data('d07e-2017-01-11.csv')\n",
    "import latlon\n",
    "current_route = [data[0]]\n",
    "routes = [current_route]\n",
    "for point in data[1:]:\n",
    "    if point.prev_speed is not None and (\n",
    "        point.prev_speed.distance > 0.2 or\n",
    "        latlon.abs(point.prev_speed) > 120 or\n",
    "        (point.acc is not None and latlon.abs(point.acc) > 10)):\n",
    "        current_route = [point]\n",
    "        routes.append(current_route)\n",
    "    else:\n",
    "        current_route.append(point)\n",
    "gnss_helpers.get_map_for_linestrings(routes, zoom=12)"
   ]
  },
  {
   "cell_type": "code",
   "execution_count": null,
   "metadata": {
    "collapsed": true,
    "deletable": true,
    "editable": true
   },
   "outputs": [],
   "source": []
  }
 ],
 "metadata": {
  "kernelspec": {
   "display_name": "Python 3",
   "language": "python",
   "name": "python3"
  },
  "language_info": {
   "codemirror_mode": {
    "name": "ipython",
    "version": 3
   },
   "file_extension": ".py",
   "mimetype": "text/x-python",
   "name": "python",
   "nbconvert_exporter": "python",
   "pygments_lexer": "ipython3",
   "version": "3.5.2+"
  },
  "widgets": {
   "state": {
    "358d9308f0254a72b080839109e5cd59": {
     "views": [
      {
       "cell_index": 61
      }
     ]
    }
   },
   "version": "1.2.0"
  }
 },
 "nbformat": 4,
 "nbformat_minor": 2
}
